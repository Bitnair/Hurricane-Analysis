def most_damage(dictionary):
    newD = {}
    for i in dictionary.values():
      n = i.get("Name")
      d = i.get("Damages")
      if 'B' in d:
        d = d.strip('.')
        d = d.strip("B")
        d = float(d)
        d = d * 1000000000
        d = int(d)
        newD[d] = n
      elif 'M' in d:
        d = d.strip('.')
        d = d.strip("M")
        d = float(d)
        d = d * 1000000
        d = int(d)
        newD[d] = n
      else:
        d = 0
        newD[d] = n
    maxDamage = max(newD.keys())
    maxName = newD[maxDamage]
    print("The most $ damage caused by a hurricane is {m} from hurricane {h}.".format(m=maxDamage, h=maxName))
    return maxName, maxDamage
